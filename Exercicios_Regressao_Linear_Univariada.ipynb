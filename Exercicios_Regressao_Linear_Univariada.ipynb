{
  "cells": [
    {
      "cell_type": "markdown",
      "source": [
        "# Preparando o ambiente"
      ],
      "metadata": {
        "id": "GwcJZzglHMZL"
      }
    },
    {
      "cell_type": "code",
      "source": [
        "!pip install gdown"
      ],
      "metadata": {
        "id": "MdzSJLV5HRDo",
        "outputId": "434e62f2-b249-4bd0-a7b1-14723e165766",
        "colab": {
          "base_uri": "https://localhost:8080/"
        }
      },
      "execution_count": null,
      "outputs": [
        {
          "output_type": "stream",
          "name": "stdout",
          "text": [
            "Requirement already satisfied: gdown in /usr/local/lib/python3.10/dist-packages (5.1.0)\n",
            "Requirement already satisfied: beautifulsoup4 in /usr/local/lib/python3.10/dist-packages (from gdown) (4.12.3)\n",
            "Requirement already satisfied: filelock in /usr/local/lib/python3.10/dist-packages (from gdown) (3.14.0)\n",
            "Requirement already satisfied: requests[socks] in /usr/local/lib/python3.10/dist-packages (from gdown) (2.31.0)\n",
            "Requirement already satisfied: tqdm in /usr/local/lib/python3.10/dist-packages (from gdown) (4.66.4)\n",
            "Requirement already satisfied: soupsieve>1.2 in /usr/local/lib/python3.10/dist-packages (from beautifulsoup4->gdown) (2.5)\n",
            "Requirement already satisfied: charset-normalizer<4,>=2 in /usr/local/lib/python3.10/dist-packages (from requests[socks]->gdown) (3.3.2)\n",
            "Requirement already satisfied: idna<4,>=2.5 in /usr/local/lib/python3.10/dist-packages (from requests[socks]->gdown) (3.7)\n",
            "Requirement already satisfied: urllib3<3,>=1.21.1 in /usr/local/lib/python3.10/dist-packages (from requests[socks]->gdown) (2.0.7)\n",
            "Requirement already satisfied: certifi>=2017.4.17 in /usr/local/lib/python3.10/dist-packages (from requests[socks]->gdown) (2024.2.2)\n",
            "Requirement already satisfied: PySocks!=1.5.7,>=1.5.6 in /usr/local/lib/python3.10/dist-packages (from requests[socks]->gdown) (1.7.1)\n"
          ]
        }
      ]
    },
    {
      "cell_type": "code",
      "source": [
        "!mkdir -p data/\n",
        "!gdown https://drive.google.com/uc?id=1zcsUU6neakc2_BnATvvsLekvMyz1cztM -O data/\n",
        "!gdown https://drive.google.com/uc?id=1zZdavmX2Zlhfe9up-25rXvE3v0HF9Ajd -O data/"
      ],
      "metadata": {
        "id": "-PTNPfEKHUyt",
        "outputId": "84da53ab-1b68-4915-dd4d-9694cef28f9b",
        "colab": {
          "base_uri": "https://localhost:8080/"
        }
      },
      "execution_count": null,
      "outputs": [
        {
          "output_type": "stream",
          "name": "stdout",
          "text": [
            "Downloading...\n",
            "From: https://drive.google.com/uc?id=1zcsUU6neakc2_BnATvvsLekvMyz1cztM\n",
            "To: /content/data/Advertising.csv\n",
            "100% 4.55k/4.55k [00:00<00:00, 11.4MB/s]\n",
            "Downloading...\n",
            "From: https://drive.google.com/uc?id=1zZdavmX2Zlhfe9up-25rXvE3v0HF9Ajd\n",
            "To: /content/data/Portland_housePrices.csv\n",
            "100% 679/679 [00:00<00:00, 2.08MB/s]\n"
          ]
        }
      ]
    },
    {
      "cell_type": "code",
      "source": [
        "!ls data/"
      ],
      "metadata": {
        "id": "SD3ujWmsHtfS",
        "outputId": "7850c632-2b06-4d82-ef8b-e1b521973f08",
        "colab": {
          "base_uri": "https://localhost:8080/"
        }
      },
      "execution_count": null,
      "outputs": [
        {
          "output_type": "stream",
          "name": "stdout",
          "text": [
            "Advertising.csv  Portland_housePrices.csv\n"
          ]
        }
      ]
    },
    {
      "cell_type": "markdown",
      "metadata": {
        "id": "2ta3TOsGEi6L"
      },
      "source": [
        "## Regressão\n",
        "\n",
        "O objetivo deste exercício é introduzir e praticar conceitos de Regressão. Para isso utilizaremos 2 bases: <i>Advertising.csv</i> e <i>Portland_housePrices.csv</i>"
      ]
    },
    {
      "cell_type": "code",
      "execution_count": null,
      "metadata": {
        "id": "XwMhHAWPEi6V",
        "outputId": "e0376b60-7f0b-4ed1-edc0-0ed1f2639f5b",
        "colab": {
          "base_uri": "https://localhost:8080/",
          "height": 206
        }
      },
      "outputs": [
        {
          "output_type": "execute_result",
          "data": {
            "text/plain": [
              "      TV  radio  newspaper  sales\n",
              "1  230.1   37.8       69.2   22.1\n",
              "2   44.5   39.3       45.1   10.4\n",
              "3   17.2   45.9       69.3    9.3\n",
              "4  151.5   41.3       58.5   18.5\n",
              "5  180.8   10.8       58.4   12.9"
            ],
            "text/html": [
              "\n",
              "  <div id=\"df-92a7ea4f-bf98-4d00-9f21-623bcaa3e8b1\" class=\"colab-df-container\">\n",
              "    <div>\n",
              "<style scoped>\n",
              "    .dataframe tbody tr th:only-of-type {\n",
              "        vertical-align: middle;\n",
              "    }\n",
              "\n",
              "    .dataframe tbody tr th {\n",
              "        vertical-align: top;\n",
              "    }\n",
              "\n",
              "    .dataframe thead th {\n",
              "        text-align: right;\n",
              "    }\n",
              "</style>\n",
              "<table border=\"1\" class=\"dataframe\">\n",
              "  <thead>\n",
              "    <tr style=\"text-align: right;\">\n",
              "      <th></th>\n",
              "      <th>TV</th>\n",
              "      <th>radio</th>\n",
              "      <th>newspaper</th>\n",
              "      <th>sales</th>\n",
              "    </tr>\n",
              "  </thead>\n",
              "  <tbody>\n",
              "    <tr>\n",
              "      <th>1</th>\n",
              "      <td>230.1</td>\n",
              "      <td>37.8</td>\n",
              "      <td>69.2</td>\n",
              "      <td>22.1</td>\n",
              "    </tr>\n",
              "    <tr>\n",
              "      <th>2</th>\n",
              "      <td>44.5</td>\n",
              "      <td>39.3</td>\n",
              "      <td>45.1</td>\n",
              "      <td>10.4</td>\n",
              "    </tr>\n",
              "    <tr>\n",
              "      <th>3</th>\n",
              "      <td>17.2</td>\n",
              "      <td>45.9</td>\n",
              "      <td>69.3</td>\n",
              "      <td>9.3</td>\n",
              "    </tr>\n",
              "    <tr>\n",
              "      <th>4</th>\n",
              "      <td>151.5</td>\n",
              "      <td>41.3</td>\n",
              "      <td>58.5</td>\n",
              "      <td>18.5</td>\n",
              "    </tr>\n",
              "    <tr>\n",
              "      <th>5</th>\n",
              "      <td>180.8</td>\n",
              "      <td>10.8</td>\n",
              "      <td>58.4</td>\n",
              "      <td>12.9</td>\n",
              "    </tr>\n",
              "  </tbody>\n",
              "</table>\n",
              "</div>\n",
              "    <div class=\"colab-df-buttons\">\n",
              "\n",
              "  <div class=\"colab-df-container\">\n",
              "    <button class=\"colab-df-convert\" onclick=\"convertToInteractive('df-92a7ea4f-bf98-4d00-9f21-623bcaa3e8b1')\"\n",
              "            title=\"Convert this dataframe to an interactive table.\"\n",
              "            style=\"display:none;\">\n",
              "\n",
              "  <svg xmlns=\"http://www.w3.org/2000/svg\" height=\"24px\" viewBox=\"0 -960 960 960\">\n",
              "    <path d=\"M120-120v-720h720v720H120Zm60-500h600v-160H180v160Zm220 220h160v-160H400v160Zm0 220h160v-160H400v160ZM180-400h160v-160H180v160Zm440 0h160v-160H620v160ZM180-180h160v-160H180v160Zm440 0h160v-160H620v160Z\"/>\n",
              "  </svg>\n",
              "    </button>\n",
              "\n",
              "  <style>\n",
              "    .colab-df-container {\n",
              "      display:flex;\n",
              "      gap: 12px;\n",
              "    }\n",
              "\n",
              "    .colab-df-convert {\n",
              "      background-color: #E8F0FE;\n",
              "      border: none;\n",
              "      border-radius: 50%;\n",
              "      cursor: pointer;\n",
              "      display: none;\n",
              "      fill: #1967D2;\n",
              "      height: 32px;\n",
              "      padding: 0 0 0 0;\n",
              "      width: 32px;\n",
              "    }\n",
              "\n",
              "    .colab-df-convert:hover {\n",
              "      background-color: #E2EBFA;\n",
              "      box-shadow: 0px 1px 2px rgba(60, 64, 67, 0.3), 0px 1px 3px 1px rgba(60, 64, 67, 0.15);\n",
              "      fill: #174EA6;\n",
              "    }\n",
              "\n",
              "    .colab-df-buttons div {\n",
              "      margin-bottom: 4px;\n",
              "    }\n",
              "\n",
              "    [theme=dark] .colab-df-convert {\n",
              "      background-color: #3B4455;\n",
              "      fill: #D2E3FC;\n",
              "    }\n",
              "\n",
              "    [theme=dark] .colab-df-convert:hover {\n",
              "      background-color: #434B5C;\n",
              "      box-shadow: 0px 1px 3px 1px rgba(0, 0, 0, 0.15);\n",
              "      filter: drop-shadow(0px 1px 2px rgba(0, 0, 0, 0.3));\n",
              "      fill: #FFFFFF;\n",
              "    }\n",
              "  </style>\n",
              "\n",
              "    <script>\n",
              "      const buttonEl =\n",
              "        document.querySelector('#df-92a7ea4f-bf98-4d00-9f21-623bcaa3e8b1 button.colab-df-convert');\n",
              "      buttonEl.style.display =\n",
              "        google.colab.kernel.accessAllowed ? 'block' : 'none';\n",
              "\n",
              "      async function convertToInteractive(key) {\n",
              "        const element = document.querySelector('#df-92a7ea4f-bf98-4d00-9f21-623bcaa3e8b1');\n",
              "        const dataTable =\n",
              "          await google.colab.kernel.invokeFunction('convertToInteractive',\n",
              "                                                    [key], {});\n",
              "        if (!dataTable) return;\n",
              "\n",
              "        const docLinkHtml = 'Like what you see? Visit the ' +\n",
              "          '<a target=\"_blank\" href=https://colab.research.google.com/notebooks/data_table.ipynb>data table notebook</a>'\n",
              "          + ' to learn more about interactive tables.';\n",
              "        element.innerHTML = '';\n",
              "        dataTable['output_type'] = 'display_data';\n",
              "        await google.colab.output.renderOutput(dataTable, element);\n",
              "        const docLink = document.createElement('div');\n",
              "        docLink.innerHTML = docLinkHtml;\n",
              "        element.appendChild(docLink);\n",
              "      }\n",
              "    </script>\n",
              "  </div>\n",
              "\n",
              "\n",
              "<div id=\"df-91b9f516-99bb-4bd4-9815-4fd7ad8e1b31\">\n",
              "  <button class=\"colab-df-quickchart\" onclick=\"quickchart('df-91b9f516-99bb-4bd4-9815-4fd7ad8e1b31')\"\n",
              "            title=\"Suggest charts\"\n",
              "            style=\"display:none;\">\n",
              "\n",
              "<svg xmlns=\"http://www.w3.org/2000/svg\" height=\"24px\"viewBox=\"0 0 24 24\"\n",
              "     width=\"24px\">\n",
              "    <g>\n",
              "        <path d=\"M19 3H5c-1.1 0-2 .9-2 2v14c0 1.1.9 2 2 2h14c1.1 0 2-.9 2-2V5c0-1.1-.9-2-2-2zM9 17H7v-7h2v7zm4 0h-2V7h2v10zm4 0h-2v-4h2v4z\"/>\n",
              "    </g>\n",
              "</svg>\n",
              "  </button>\n",
              "\n",
              "<style>\n",
              "  .colab-df-quickchart {\n",
              "      --bg-color: #E8F0FE;\n",
              "      --fill-color: #1967D2;\n",
              "      --hover-bg-color: #E2EBFA;\n",
              "      --hover-fill-color: #174EA6;\n",
              "      --disabled-fill-color: #AAA;\n",
              "      --disabled-bg-color: #DDD;\n",
              "  }\n",
              "\n",
              "  [theme=dark] .colab-df-quickchart {\n",
              "      --bg-color: #3B4455;\n",
              "      --fill-color: #D2E3FC;\n",
              "      --hover-bg-color: #434B5C;\n",
              "      --hover-fill-color: #FFFFFF;\n",
              "      --disabled-bg-color: #3B4455;\n",
              "      --disabled-fill-color: #666;\n",
              "  }\n",
              "\n",
              "  .colab-df-quickchart {\n",
              "    background-color: var(--bg-color);\n",
              "    border: none;\n",
              "    border-radius: 50%;\n",
              "    cursor: pointer;\n",
              "    display: none;\n",
              "    fill: var(--fill-color);\n",
              "    height: 32px;\n",
              "    padding: 0;\n",
              "    width: 32px;\n",
              "  }\n",
              "\n",
              "  .colab-df-quickchart:hover {\n",
              "    background-color: var(--hover-bg-color);\n",
              "    box-shadow: 0 1px 2px rgba(60, 64, 67, 0.3), 0 1px 3px 1px rgba(60, 64, 67, 0.15);\n",
              "    fill: var(--button-hover-fill-color);\n",
              "  }\n",
              "\n",
              "  .colab-df-quickchart-complete:disabled,\n",
              "  .colab-df-quickchart-complete:disabled:hover {\n",
              "    background-color: var(--disabled-bg-color);\n",
              "    fill: var(--disabled-fill-color);\n",
              "    box-shadow: none;\n",
              "  }\n",
              "\n",
              "  .colab-df-spinner {\n",
              "    border: 2px solid var(--fill-color);\n",
              "    border-color: transparent;\n",
              "    border-bottom-color: var(--fill-color);\n",
              "    animation:\n",
              "      spin 1s steps(1) infinite;\n",
              "  }\n",
              "\n",
              "  @keyframes spin {\n",
              "    0% {\n",
              "      border-color: transparent;\n",
              "      border-bottom-color: var(--fill-color);\n",
              "      border-left-color: var(--fill-color);\n",
              "    }\n",
              "    20% {\n",
              "      border-color: transparent;\n",
              "      border-left-color: var(--fill-color);\n",
              "      border-top-color: var(--fill-color);\n",
              "    }\n",
              "    30% {\n",
              "      border-color: transparent;\n",
              "      border-left-color: var(--fill-color);\n",
              "      border-top-color: var(--fill-color);\n",
              "      border-right-color: var(--fill-color);\n",
              "    }\n",
              "    40% {\n",
              "      border-color: transparent;\n",
              "      border-right-color: var(--fill-color);\n",
              "      border-top-color: var(--fill-color);\n",
              "    }\n",
              "    60% {\n",
              "      border-color: transparent;\n",
              "      border-right-color: var(--fill-color);\n",
              "    }\n",
              "    80% {\n",
              "      border-color: transparent;\n",
              "      border-right-color: var(--fill-color);\n",
              "      border-bottom-color: var(--fill-color);\n",
              "    }\n",
              "    90% {\n",
              "      border-color: transparent;\n",
              "      border-bottom-color: var(--fill-color);\n",
              "    }\n",
              "  }\n",
              "</style>\n",
              "\n",
              "  <script>\n",
              "    async function quickchart(key) {\n",
              "      const quickchartButtonEl =\n",
              "        document.querySelector('#' + key + ' button');\n",
              "      quickchartButtonEl.disabled = true;  // To prevent multiple clicks.\n",
              "      quickchartButtonEl.classList.add('colab-df-spinner');\n",
              "      try {\n",
              "        const charts = await google.colab.kernel.invokeFunction(\n",
              "            'suggestCharts', [key], {});\n",
              "      } catch (error) {\n",
              "        console.error('Error during call to suggestCharts:', error);\n",
              "      }\n",
              "      quickchartButtonEl.classList.remove('colab-df-spinner');\n",
              "      quickchartButtonEl.classList.add('colab-df-quickchart-complete');\n",
              "    }\n",
              "    (() => {\n",
              "      let quickchartButtonEl =\n",
              "        document.querySelector('#df-91b9f516-99bb-4bd4-9815-4fd7ad8e1b31 button');\n",
              "      quickchartButtonEl.style.display =\n",
              "        google.colab.kernel.accessAllowed ? 'block' : 'none';\n",
              "    })();\n",
              "  </script>\n",
              "</div>\n",
              "\n",
              "    </div>\n",
              "  </div>\n"
            ],
            "application/vnd.google.colaboratory.intrinsic+json": {
              "type": "dataframe",
              "variable_name": "dados_adv",
              "summary": "{\n  \"name\": \"dados_adv\",\n  \"rows\": 200,\n  \"fields\": [\n    {\n      \"column\": \"TV\",\n      \"properties\": {\n        \"dtype\": \"number\",\n        \"std\": 85.85423631490808,\n        \"min\": 0.7,\n        \"max\": 296.4,\n        \"num_unique_values\": 190,\n        \"samples\": [\n          287.6,\n          286.0,\n          78.2\n        ],\n        \"semantic_type\": \"\",\n        \"description\": \"\"\n      }\n    },\n    {\n      \"column\": \"radio\",\n      \"properties\": {\n        \"dtype\": \"number\",\n        \"std\": 14.846809176168724,\n        \"min\": 0.0,\n        \"max\": 49.6,\n        \"num_unique_values\": 167,\n        \"samples\": [\n          8.2,\n          36.9,\n          44.5\n        ],\n        \"semantic_type\": \"\",\n        \"description\": \"\"\n      }\n    },\n    {\n      \"column\": \"newspaper\",\n      \"properties\": {\n        \"dtype\": \"number\",\n        \"std\": 21.778620838522826,\n        \"min\": 0.3,\n        \"max\": 114.0,\n        \"num_unique_values\": 172,\n        \"samples\": [\n          22.3,\n          5.7,\n          17.0\n        ],\n        \"semantic_type\": \"\",\n        \"description\": \"\"\n      }\n    },\n    {\n      \"column\": \"sales\",\n      \"properties\": {\n        \"dtype\": \"number\",\n        \"std\": 5.217456565710478,\n        \"min\": 1.6,\n        \"max\": 27.0,\n        \"num_unique_values\": 121,\n        \"samples\": [\n          11.4,\n          21.2,\n          12.9\n        ],\n        \"semantic_type\": \"\",\n        \"description\": \"\"\n      }\n    }\n  ]\n}"
            }
          },
          "metadata": {},
          "execution_count": 4
        }
      ],
      "source": [
        "import pandas as pd\n",
        "\n",
        "dados_adv = pd.read_csv('data/Advertising.csv', index_col=0)\n",
        "dados_adv.head()"
      ]
    },
    {
      "cell_type": "markdown",
      "metadata": {
        "id": "xw33YGFSEi6a"
      },
      "source": [
        "<i>Advertising</i> é um conjunto de dados relacionando o montante de vendas (<i>sales</i>) com o montante investido em marketing em diferentes médias (<i>TV</i>,<i>radio</i> e <i>newspaper</i>).\n",
        "\n",
        "Por sua vez, <i>Portland_housePrices</i> relaciona o preço de casas com seu tamanho e número de quartos.\n",
        "\n"
      ]
    },
    {
      "cell_type": "code",
      "execution_count": null,
      "metadata": {
        "id": "LLrBGpYIEi6d",
        "outputId": "293001ba-f8b3-4e5d-effd-2ebf3066c767",
        "colab": {
          "base_uri": "https://localhost:8080/",
          "height": 206
        }
      },
      "outputs": [
        {
          "output_type": "execute_result",
          "data": {
            "text/plain": [
              "   tamanho  quartos   preco\n",
              "0     2104        3  399900\n",
              "1     1600        3  329900\n",
              "2     2400        3  369000\n",
              "3     1416        2  232000\n",
              "4     3000        4  539900"
            ],
            "text/html": [
              "\n",
              "  <div id=\"df-d816245e-9e59-4dfc-97df-5f4119bc7037\" class=\"colab-df-container\">\n",
              "    <div>\n",
              "<style scoped>\n",
              "    .dataframe tbody tr th:only-of-type {\n",
              "        vertical-align: middle;\n",
              "    }\n",
              "\n",
              "    .dataframe tbody tr th {\n",
              "        vertical-align: top;\n",
              "    }\n",
              "\n",
              "    .dataframe thead th {\n",
              "        text-align: right;\n",
              "    }\n",
              "</style>\n",
              "<table border=\"1\" class=\"dataframe\">\n",
              "  <thead>\n",
              "    <tr style=\"text-align: right;\">\n",
              "      <th></th>\n",
              "      <th>tamanho</th>\n",
              "      <th>quartos</th>\n",
              "      <th>preco</th>\n",
              "    </tr>\n",
              "  </thead>\n",
              "  <tbody>\n",
              "    <tr>\n",
              "      <th>0</th>\n",
              "      <td>2104</td>\n",
              "      <td>3</td>\n",
              "      <td>399900</td>\n",
              "    </tr>\n",
              "    <tr>\n",
              "      <th>1</th>\n",
              "      <td>1600</td>\n",
              "      <td>3</td>\n",
              "      <td>329900</td>\n",
              "    </tr>\n",
              "    <tr>\n",
              "      <th>2</th>\n",
              "      <td>2400</td>\n",
              "      <td>3</td>\n",
              "      <td>369000</td>\n",
              "    </tr>\n",
              "    <tr>\n",
              "      <th>3</th>\n",
              "      <td>1416</td>\n",
              "      <td>2</td>\n",
              "      <td>232000</td>\n",
              "    </tr>\n",
              "    <tr>\n",
              "      <th>4</th>\n",
              "      <td>3000</td>\n",
              "      <td>4</td>\n",
              "      <td>539900</td>\n",
              "    </tr>\n",
              "  </tbody>\n",
              "</table>\n",
              "</div>\n",
              "    <div class=\"colab-df-buttons\">\n",
              "\n",
              "  <div class=\"colab-df-container\">\n",
              "    <button class=\"colab-df-convert\" onclick=\"convertToInteractive('df-d816245e-9e59-4dfc-97df-5f4119bc7037')\"\n",
              "            title=\"Convert this dataframe to an interactive table.\"\n",
              "            style=\"display:none;\">\n",
              "\n",
              "  <svg xmlns=\"http://www.w3.org/2000/svg\" height=\"24px\" viewBox=\"0 -960 960 960\">\n",
              "    <path d=\"M120-120v-720h720v720H120Zm60-500h600v-160H180v160Zm220 220h160v-160H400v160Zm0 220h160v-160H400v160ZM180-400h160v-160H180v160Zm440 0h160v-160H620v160ZM180-180h160v-160H180v160Zm440 0h160v-160H620v160Z\"/>\n",
              "  </svg>\n",
              "    </button>\n",
              "\n",
              "  <style>\n",
              "    .colab-df-container {\n",
              "      display:flex;\n",
              "      gap: 12px;\n",
              "    }\n",
              "\n",
              "    .colab-df-convert {\n",
              "      background-color: #E8F0FE;\n",
              "      border: none;\n",
              "      border-radius: 50%;\n",
              "      cursor: pointer;\n",
              "      display: none;\n",
              "      fill: #1967D2;\n",
              "      height: 32px;\n",
              "      padding: 0 0 0 0;\n",
              "      width: 32px;\n",
              "    }\n",
              "\n",
              "    .colab-df-convert:hover {\n",
              "      background-color: #E2EBFA;\n",
              "      box-shadow: 0px 1px 2px rgba(60, 64, 67, 0.3), 0px 1px 3px 1px rgba(60, 64, 67, 0.15);\n",
              "      fill: #174EA6;\n",
              "    }\n",
              "\n",
              "    .colab-df-buttons div {\n",
              "      margin-bottom: 4px;\n",
              "    }\n",
              "\n",
              "    [theme=dark] .colab-df-convert {\n",
              "      background-color: #3B4455;\n",
              "      fill: #D2E3FC;\n",
              "    }\n",
              "\n",
              "    [theme=dark] .colab-df-convert:hover {\n",
              "      background-color: #434B5C;\n",
              "      box-shadow: 0px 1px 3px 1px rgba(0, 0, 0, 0.15);\n",
              "      filter: drop-shadow(0px 1px 2px rgba(0, 0, 0, 0.3));\n",
              "      fill: #FFFFFF;\n",
              "    }\n",
              "  </style>\n",
              "\n",
              "    <script>\n",
              "      const buttonEl =\n",
              "        document.querySelector('#df-d816245e-9e59-4dfc-97df-5f4119bc7037 button.colab-df-convert');\n",
              "      buttonEl.style.display =\n",
              "        google.colab.kernel.accessAllowed ? 'block' : 'none';\n",
              "\n",
              "      async function convertToInteractive(key) {\n",
              "        const element = document.querySelector('#df-d816245e-9e59-4dfc-97df-5f4119bc7037');\n",
              "        const dataTable =\n",
              "          await google.colab.kernel.invokeFunction('convertToInteractive',\n",
              "                                                    [key], {});\n",
              "        if (!dataTable) return;\n",
              "\n",
              "        const docLinkHtml = 'Like what you see? Visit the ' +\n",
              "          '<a target=\"_blank\" href=https://colab.research.google.com/notebooks/data_table.ipynb>data table notebook</a>'\n",
              "          + ' to learn more about interactive tables.';\n",
              "        element.innerHTML = '';\n",
              "        dataTable['output_type'] = 'display_data';\n",
              "        await google.colab.output.renderOutput(dataTable, element);\n",
              "        const docLink = document.createElement('div');\n",
              "        docLink.innerHTML = docLinkHtml;\n",
              "        element.appendChild(docLink);\n",
              "      }\n",
              "    </script>\n",
              "  </div>\n",
              "\n",
              "\n",
              "<div id=\"df-b198651a-5a6e-4f57-baac-eb8f65665c33\">\n",
              "  <button class=\"colab-df-quickchart\" onclick=\"quickchart('df-b198651a-5a6e-4f57-baac-eb8f65665c33')\"\n",
              "            title=\"Suggest charts\"\n",
              "            style=\"display:none;\">\n",
              "\n",
              "<svg xmlns=\"http://www.w3.org/2000/svg\" height=\"24px\"viewBox=\"0 0 24 24\"\n",
              "     width=\"24px\">\n",
              "    <g>\n",
              "        <path d=\"M19 3H5c-1.1 0-2 .9-2 2v14c0 1.1.9 2 2 2h14c1.1 0 2-.9 2-2V5c0-1.1-.9-2-2-2zM9 17H7v-7h2v7zm4 0h-2V7h2v10zm4 0h-2v-4h2v4z\"/>\n",
              "    </g>\n",
              "</svg>\n",
              "  </button>\n",
              "\n",
              "<style>\n",
              "  .colab-df-quickchart {\n",
              "      --bg-color: #E8F0FE;\n",
              "      --fill-color: #1967D2;\n",
              "      --hover-bg-color: #E2EBFA;\n",
              "      --hover-fill-color: #174EA6;\n",
              "      --disabled-fill-color: #AAA;\n",
              "      --disabled-bg-color: #DDD;\n",
              "  }\n",
              "\n",
              "  [theme=dark] .colab-df-quickchart {\n",
              "      --bg-color: #3B4455;\n",
              "      --fill-color: #D2E3FC;\n",
              "      --hover-bg-color: #434B5C;\n",
              "      --hover-fill-color: #FFFFFF;\n",
              "      --disabled-bg-color: #3B4455;\n",
              "      --disabled-fill-color: #666;\n",
              "  }\n",
              "\n",
              "  .colab-df-quickchart {\n",
              "    background-color: var(--bg-color);\n",
              "    border: none;\n",
              "    border-radius: 50%;\n",
              "    cursor: pointer;\n",
              "    display: none;\n",
              "    fill: var(--fill-color);\n",
              "    height: 32px;\n",
              "    padding: 0;\n",
              "    width: 32px;\n",
              "  }\n",
              "\n",
              "  .colab-df-quickchart:hover {\n",
              "    background-color: var(--hover-bg-color);\n",
              "    box-shadow: 0 1px 2px rgba(60, 64, 67, 0.3), 0 1px 3px 1px rgba(60, 64, 67, 0.15);\n",
              "    fill: var(--button-hover-fill-color);\n",
              "  }\n",
              "\n",
              "  .colab-df-quickchart-complete:disabled,\n",
              "  .colab-df-quickchart-complete:disabled:hover {\n",
              "    background-color: var(--disabled-bg-color);\n",
              "    fill: var(--disabled-fill-color);\n",
              "    box-shadow: none;\n",
              "  }\n",
              "\n",
              "  .colab-df-spinner {\n",
              "    border: 2px solid var(--fill-color);\n",
              "    border-color: transparent;\n",
              "    border-bottom-color: var(--fill-color);\n",
              "    animation:\n",
              "      spin 1s steps(1) infinite;\n",
              "  }\n",
              "\n",
              "  @keyframes spin {\n",
              "    0% {\n",
              "      border-color: transparent;\n",
              "      border-bottom-color: var(--fill-color);\n",
              "      border-left-color: var(--fill-color);\n",
              "    }\n",
              "    20% {\n",
              "      border-color: transparent;\n",
              "      border-left-color: var(--fill-color);\n",
              "      border-top-color: var(--fill-color);\n",
              "    }\n",
              "    30% {\n",
              "      border-color: transparent;\n",
              "      border-left-color: var(--fill-color);\n",
              "      border-top-color: var(--fill-color);\n",
              "      border-right-color: var(--fill-color);\n",
              "    }\n",
              "    40% {\n",
              "      border-color: transparent;\n",
              "      border-right-color: var(--fill-color);\n",
              "      border-top-color: var(--fill-color);\n",
              "    }\n",
              "    60% {\n",
              "      border-color: transparent;\n",
              "      border-right-color: var(--fill-color);\n",
              "    }\n",
              "    80% {\n",
              "      border-color: transparent;\n",
              "      border-right-color: var(--fill-color);\n",
              "      border-bottom-color: var(--fill-color);\n",
              "    }\n",
              "    90% {\n",
              "      border-color: transparent;\n",
              "      border-bottom-color: var(--fill-color);\n",
              "    }\n",
              "  }\n",
              "</style>\n",
              "\n",
              "  <script>\n",
              "    async function quickchart(key) {\n",
              "      const quickchartButtonEl =\n",
              "        document.querySelector('#' + key + ' button');\n",
              "      quickchartButtonEl.disabled = true;  // To prevent multiple clicks.\n",
              "      quickchartButtonEl.classList.add('colab-df-spinner');\n",
              "      try {\n",
              "        const charts = await google.colab.kernel.invokeFunction(\n",
              "            'suggestCharts', [key], {});\n",
              "      } catch (error) {\n",
              "        console.error('Error during call to suggestCharts:', error);\n",
              "      }\n",
              "      quickchartButtonEl.classList.remove('colab-df-spinner');\n",
              "      quickchartButtonEl.classList.add('colab-df-quickchart-complete');\n",
              "    }\n",
              "    (() => {\n",
              "      let quickchartButtonEl =\n",
              "        document.querySelector('#df-b198651a-5a6e-4f57-baac-eb8f65665c33 button');\n",
              "      quickchartButtonEl.style.display =\n",
              "        google.colab.kernel.accessAllowed ? 'block' : 'none';\n",
              "    })();\n",
              "  </script>\n",
              "</div>\n",
              "\n",
              "    </div>\n",
              "  </div>\n"
            ],
            "application/vnd.google.colaboratory.intrinsic+json": {
              "type": "dataframe",
              "variable_name": "dados_por",
              "summary": "{\n  \"name\": \"dados_por\",\n  \"rows\": 47,\n  \"fields\": [\n    {\n      \"column\": \"tamanho\",\n      \"properties\": {\n        \"dtype\": \"number\",\n        \"std\": 794,\n        \"min\": 852,\n        \"max\": 4478,\n        \"num_unique_values\": 47,\n        \"samples\": [\n          2526,\n          2162,\n          1458\n        ],\n        \"semantic_type\": \"\",\n        \"description\": \"\"\n      }\n    },\n    {\n      \"column\": \"quartos\",\n      \"properties\": {\n        \"dtype\": \"number\",\n        \"std\": 0,\n        \"min\": 1,\n        \"max\": 5,\n        \"num_unique_values\": 5,\n        \"samples\": [\n          2,\n          1,\n          4\n        ],\n        \"semantic_type\": \"\",\n        \"description\": \"\"\n      }\n    },\n    {\n      \"column\": \"preco\",\n      \"properties\": {\n        \"dtype\": \"number\",\n        \"std\": 125039,\n        \"min\": 169900,\n        \"max\": 699900,\n        \"num_unique_values\": 40,\n        \"samples\": [\n          252900,\n          199900,\n          449900\n        ],\n        \"semantic_type\": \"\",\n        \"description\": \"\"\n      }\n    }\n  ]\n}"
            }
          },
          "metadata": {},
          "execution_count": 5
        }
      ],
      "source": [
        "dados_por = pd.read_csv('data/Portland_housePrices.csv', index_col=None)\n",
        "dados_por.head()"
      ]
    },
    {
      "cell_type": "markdown",
      "metadata": {
        "id": "_8XuXg-oEi6h"
      },
      "source": [
        "## Como treinar e usar modelos?\n",
        "Para virtualmente qualquer tipo de algoritmo de Regressão, existirá uma função <i>fit</i> para treinar o modelo.\n",
        "\n",
        "Por exemplo, para a regressão linear:\n",
        "\n",
        "```python\n",
        " reg = LinearRegression().fit(X,y)\n",
        "```\n",
        "\n",
        "Onde <i> X </i> se refere aos atributos de treinamento e <i>y</i> à variável resposta.\n"
      ]
    },
    {
      "cell_type": "code",
      "execution_count": null,
      "metadata": {
        "id": "wgtbXZHKEi6j",
        "outputId": "4ba6e3bf-726c-4846-bfb5-f220868842ad",
        "colab": {
          "base_uri": "https://localhost:8080/",
          "height": 75
        }
      },
      "outputs": [
        {
          "output_type": "execute_result",
          "data": {
            "text/plain": [
              "LinearRegression()"
            ],
            "text/html": [
              "<style>#sk-container-id-1 {color: black;background-color: white;}#sk-container-id-1 pre{padding: 0;}#sk-container-id-1 div.sk-toggleable {background-color: white;}#sk-container-id-1 label.sk-toggleable__label {cursor: pointer;display: block;width: 100%;margin-bottom: 0;padding: 0.3em;box-sizing: border-box;text-align: center;}#sk-container-id-1 label.sk-toggleable__label-arrow:before {content: \"▸\";float: left;margin-right: 0.25em;color: #696969;}#sk-container-id-1 label.sk-toggleable__label-arrow:hover:before {color: black;}#sk-container-id-1 div.sk-estimator:hover label.sk-toggleable__label-arrow:before {color: black;}#sk-container-id-1 div.sk-toggleable__content {max-height: 0;max-width: 0;overflow: hidden;text-align: left;background-color: #f0f8ff;}#sk-container-id-1 div.sk-toggleable__content pre {margin: 0.2em;color: black;border-radius: 0.25em;background-color: #f0f8ff;}#sk-container-id-1 input.sk-toggleable__control:checked~div.sk-toggleable__content {max-height: 200px;max-width: 100%;overflow: auto;}#sk-container-id-1 input.sk-toggleable__control:checked~label.sk-toggleable__label-arrow:before {content: \"▾\";}#sk-container-id-1 div.sk-estimator input.sk-toggleable__control:checked~label.sk-toggleable__label {background-color: #d4ebff;}#sk-container-id-1 div.sk-label input.sk-toggleable__control:checked~label.sk-toggleable__label {background-color: #d4ebff;}#sk-container-id-1 input.sk-hidden--visually {border: 0;clip: rect(1px 1px 1px 1px);clip: rect(1px, 1px, 1px, 1px);height: 1px;margin: -1px;overflow: hidden;padding: 0;position: absolute;width: 1px;}#sk-container-id-1 div.sk-estimator {font-family: monospace;background-color: #f0f8ff;border: 1px dotted black;border-radius: 0.25em;box-sizing: border-box;margin-bottom: 0.5em;}#sk-container-id-1 div.sk-estimator:hover {background-color: #d4ebff;}#sk-container-id-1 div.sk-parallel-item::after {content: \"\";width: 100%;border-bottom: 1px solid gray;flex-grow: 1;}#sk-container-id-1 div.sk-label:hover label.sk-toggleable__label {background-color: #d4ebff;}#sk-container-id-1 div.sk-serial::before {content: \"\";position: absolute;border-left: 1px solid gray;box-sizing: border-box;top: 0;bottom: 0;left: 50%;z-index: 0;}#sk-container-id-1 div.sk-serial {display: flex;flex-direction: column;align-items: center;background-color: white;padding-right: 0.2em;padding-left: 0.2em;position: relative;}#sk-container-id-1 div.sk-item {position: relative;z-index: 1;}#sk-container-id-1 div.sk-parallel {display: flex;align-items: stretch;justify-content: center;background-color: white;position: relative;}#sk-container-id-1 div.sk-item::before, #sk-container-id-1 div.sk-parallel-item::before {content: \"\";position: absolute;border-left: 1px solid gray;box-sizing: border-box;top: 0;bottom: 0;left: 50%;z-index: -1;}#sk-container-id-1 div.sk-parallel-item {display: flex;flex-direction: column;z-index: 1;position: relative;background-color: white;}#sk-container-id-1 div.sk-parallel-item:first-child::after {align-self: flex-end;width: 50%;}#sk-container-id-1 div.sk-parallel-item:last-child::after {align-self: flex-start;width: 50%;}#sk-container-id-1 div.sk-parallel-item:only-child::after {width: 0;}#sk-container-id-1 div.sk-dashed-wrapped {border: 1px dashed gray;margin: 0 0.4em 0.5em 0.4em;box-sizing: border-box;padding-bottom: 0.4em;background-color: white;}#sk-container-id-1 div.sk-label label {font-family: monospace;font-weight: bold;display: inline-block;line-height: 1.2em;}#sk-container-id-1 div.sk-label-container {text-align: center;}#sk-container-id-1 div.sk-container {/* jupyter's `normalize.less` sets `[hidden] { display: none; }` but bootstrap.min.css set `[hidden] { display: none !important; }` so we also need the `!important` here to be able to override the default hidden behavior on the sphinx rendered scikit-learn.org. See: https://github.com/scikit-learn/scikit-learn/issues/21755 */display: inline-block !important;position: relative;}#sk-container-id-1 div.sk-text-repr-fallback {display: none;}</style><div id=\"sk-container-id-1\" class=\"sk-top-container\"><div class=\"sk-text-repr-fallback\"><pre>LinearRegression()</pre><b>In a Jupyter environment, please rerun this cell to show the HTML representation or trust the notebook. <br />On GitHub, the HTML representation is unable to render, please try loading this page with nbviewer.org.</b></div><div class=\"sk-container\" hidden><div class=\"sk-item\"><div class=\"sk-estimator sk-toggleable\"><input class=\"sk-toggleable__control sk-hidden--visually\" id=\"sk-estimator-id-1\" type=\"checkbox\" checked><label for=\"sk-estimator-id-1\" class=\"sk-toggleable__label sk-toggleable__label-arrow\">LinearRegression</label><div class=\"sk-toggleable__content\"><pre>LinearRegression()</pre></div></div></div></div></div>"
            ]
          },
          "metadata": {},
          "execution_count": 6
        }
      ],
      "source": [
        "from sklearn.linear_model import LinearRegression\n",
        "#Treina modelo utilizando dados de tamanho para prever preco\n",
        "X = dados_por.loc[:,['tamanho']]\n",
        "y = dados_por.loc[:,['preco']]\n",
        "\n",
        "reg = LinearRegression().fit(X,y)\n",
        "reg"
      ]
    },
    {
      "cell_type": "markdown",
      "metadata": {
        "id": "48oS8OrzEi6l"
      },
      "source": [
        "Após treinado, o modelo pode ser utilizado para fazer predições (prever <i>y</i> para novos exemplos), através da função <i>predict</i>"
      ]
    },
    {
      "cell_type": "code",
      "execution_count": null,
      "metadata": {
        "id": "SSDCu1BNEi6n",
        "outputId": "4085bf48-2096-4071-e34e-76b01163d774",
        "colab": {
          "base_uri": "https://localhost:8080/"
        }
      },
      "outputs": [
        {
          "output_type": "execute_result",
          "data": {
            "text/plain": [
              "array([[354311.69781212],\n",
              "       [286510.95280112],\n",
              "       [394131.18297731],\n",
              "       [261758.29986059]])"
            ]
          },
          "metadata": {},
          "execution_count": 7
        }
      ],
      "source": [
        "y_hat = reg.predict(X[0:4])\n",
        "y_hat"
      ]
    },
    {
      "cell_type": "markdown",
      "metadata": {
        "id": "jwbpf_PWEi6p"
      },
      "source": [
        "## Regressão Linear Univariada\n",
        "\n",
        "O framework disponibiliza uma classe <a href=\"https://scikit-learn.org/stable/modules/generated/sklearn.linear_model.LinearRegression.html\">LinearRegression</a> que implementa regressão linear com o método de mínimos quadrados:\n",
        "\n",
        "```python\n",
        "linear_model = LinearRegression()\n",
        "linear_model.fit(X,y)\n",
        "linear_model.predict(X)\n",
        "\n",
        "```\n",
        "## Avaliando Modelos\n",
        "\n",
        "Existem algumas formas de inspecionar ou avaliar o modelo aprendido. A primeira forma é visualizar o modelo em um gráfico.\n",
        "\n"
      ]
    },
    {
      "cell_type": "code",
      "execution_count": null,
      "metadata": {
        "id": "ytHED57dEi6r",
        "outputId": "9768b2b9-b7d8-413c-87bd-a3a25f9081d2",
        "colab": {
          "base_uri": "https://localhost:8080/",
          "height": 466
        }
      },
      "outputs": [
        {
          "output_type": "execute_result",
          "data": {
            "text/plain": [
              "Text(0, 0.5, 'Preço')"
            ]
          },
          "metadata": {},
          "execution_count": 8
        },
        {
          "output_type": "display_data",
          "data": {
            "text/plain": [
              "<Figure size 640x480 with 1 Axes>"
            ],
            "image/png": "[encoded data removed]"
          },
          "metadata": {}
        }
      ],
      "source": [
        "from matplotlib import pyplot as plt\n",
        "\n",
        "plt.scatter(X, y,color='g')\n",
        "plt.plot(X, reg.predict(X),color='k')\n",
        "plt.xlabel('Tamanho (pe2)')\n",
        "plt.ylabel('Preço')"
      ]
    },
    {
      "cell_type": "markdown",
      "metadata": {
        "id": "xPtAZJeNEi6s"
      },
      "source": [
        "Quando há mais de um atributo preditor, visualizar o modelo torna-se difícil, mas ainda é possível avaliar o modelo através do <b>erro quadrático (RSS)</b> ou a métrica <a href=\"https://scikit-learn.org/stable/modules/generated/sklearn.metrics.r2_score.html\"><b>R^2</b></a>"
      ]
    },
    {
      "cell_type": "code",
      "execution_count": null,
      "metadata": {
        "id": "XwsH79cOEi6t"
      },
      "outputs": [],
      "source": [
        "from sklearn.metrics import r2_score\n",
        "def calc_rss(y,predicted):\n",
        "    return float(((predicted - y) ** 2).sum())\n",
        "\n",
        "def calc_r2(y,predicted):\n",
        "    return r2_score(predicted,y)"
      ]
    },
    {
      "cell_type": "code",
      "execution_count": null,
      "metadata": {
        "id": "vjkpEpTfEi6v",
        "outputId": "29d68f60-727c-4aad-cbc0-c3c9e1b8dde2",
        "colab": {
          "base_uri": "https://localhost:8080/"
        }
      },
      "outputs": [
        {
          "output_type": "stream",
          "name": "stdout",
          "text": [
            "193464477600.7059\n",
            "0.6320180251851147\n"
          ]
        },
        {
          "output_type": "stream",
          "name": "stderr",
          "text": [
            "<ipython-input-9-3bdc3172cf7d>:3: FutureWarning: Calling float on a single element Series is deprecated and will raise a TypeError in the future. Use float(ser.iloc[0]) instead\n",
            "  return float(((predicted - y) ** 2).sum())\n"
          ]
        }
      ],
      "source": [
        "rss = calc_rss(y,reg.predict(X))\n",
        "r2 = calc_r2(y,reg.predict(X))\n",
        "print(rss)\n",
        "print(r2)"
      ]
    },
    {
      "cell_type": "markdown",
      "metadata": {
        "id": "GTG9QtWREi6w"
      },
      "source": [
        "# Exercício 1\n",
        "Treine modelos lineares na base <i>Portland_housePrices.csv</i> utilizando apenas um dos atributos preditores.\n",
        "\n",
        "1) Observando visualmente o modelo, qual atributo parece mais razoável? o que foi aprendido com <i>tamanho</i> ou com <i>número de quartos</i>?\n",
        "\n",
        "2) O RSS e R^2 corroboram suas impressões observando o modelo?\n",
        "\n",
        "\n"
      ]
    },
    {
      "cell_type": "code",
      "execution_count": 49,
      "metadata": {
        "id": "2QX10GSvEi6w",
        "colab": {
          "base_uri": "https://localhost:8080/",
          "height": 449
        },
        "outputId": "5a4cc7da-3f72-4ae7-955d-6a1d3ef95a43"
      },
      "outputs": [
        {
          "output_type": "display_data",
          "data": {
            "text/plain": [
              "<Figure size 640x480 with 1 Axes>"
            ],
            "image/png": "[encoded data removed]"
          },
          "metadata": {}
        }
      ],
      "source": [
        "#Regressao Linear Portland\n",
        "from sklearn.linear_model import LinearRegression\n",
        "#Treina modelo utilizando dados de tamanho para prever preco\n",
        "X_tamanho = dados_por.loc[:,['tamanho']]\n",
        "y_tamanho = dados_por.loc[:,['preco']]\n",
        "\n",
        "reg_tamanho = LinearRegression().fit(X_tamanho,y_tamanho)\n",
        "\n",
        "#treina modelo utilizando dados de quartos para prever preco\n",
        "x_quartos = dados_por.loc[:,['quartos']]\n",
        "y_quartos = dados_por.loc[:,['preco']]\n",
        "\n",
        "reg_quartos = LinearRegression().fit(x_quartos,y_quartos)\n",
        "\n",
        "plt.scatter(X_tamanho, y_tamanho,color='g')\n",
        "plt.plot(X_tamanho, reg_tamanho.predict(X_tamanho),color='k')\n",
        "plt.scatter(x_quartos, y_quartos,color='r')\n",
        "plt.plot(x_quartos, reg_quartos.predict(x_quartos),color='b')\n",
        "plt.xlabel('Atribuicao')\n",
        "plt.ylabel('Preço')\n",
        "plt.legend(['tamanho','quartos'])\n",
        "plt.show()\n"
      ]
    },
    {
      "cell_type": "markdown",
      "source": [
        "O atributo tamanho é o mais razoavel\n"
      ],
      "metadata": {
        "id": "xeccq8mZ57si"
      }
    },
    {
      "cell_type": "code",
      "source": [
        "rss_tamanho = calc_rss(y_tamanho,reg_tamanho.predict(X_tamanho))\n",
        "r2_tamanho = calc_r2(y_tamanho,reg_tamanho.predict(X_tamanho))\n",
        "\n",
        "rss_quartos = calc_rss(y_quartos,reg_quartos.predict(x_quartos))\n",
        "r2_quartos = calc_r2(y_quartos,reg_quartos.predict(x_quartos))\n",
        "\n",
        "print('RSS Tamanho: ',rss_tamanho)\n",
        "print('Rˆ2 Tamanho: ',r2_tamanho)\n",
        "print('RSS Quarto: ',rss_quartos)\n",
        "print('Rˆ2 Quarto: ',r2_quartos)"
      ],
      "metadata": {
        "colab": {
          "base_uri": "https://localhost:8080/"
        },
        "id": "O_dqJi_t6BRH",
        "outputId": "13c4b344-6797-431a-ea9d-77abe307739b"
      },
      "execution_count": 51,
      "outputs": [
        {
          "output_type": "stream",
          "name": "stdout",
          "text": [
            "RSS Tamanho:  193464477600.7059\n",
            "Rˆ2 Tamanho:  0.6320180251851147\n",
            "RSS Quarto:  578535325112.5249\n",
            "Rˆ2 Quarto:  -3.112607855431998\n"
          ]
        },
        {
          "output_type": "stream",
          "name": "stderr",
          "text": [
            "<ipython-input-10-ae5ab3570a15>:3: FutureWarning: Calling float on a single element Series is deprecated and will raise a TypeError in the future. Use float(ser.iloc[0]) instead\n",
            "  return float(((predicted - y) ** 2).sum())\n",
            "<ipython-input-10-ae5ab3570a15>:3: FutureWarning: Calling float on a single element Series is deprecated and will raise a TypeError in the future. Use float(ser.iloc[0]) instead\n",
            "  return float(((predicted - y) ** 2).sum())\n"
          ]
        }
      ]
    },
    {
      "cell_type": "markdown",
      "source": [
        "Sim o RSS e Rˆ2 corroboram as impressoes, o tamanho ainda é mais preciso"
      ],
      "metadata": {
        "id": "Rn2zOsnH7N4P"
      }
    },
    {
      "cell_type": "markdown",
      "metadata": {
        "id": "pkkxDk9dEi6x"
      },
      "source": [
        "# Exercício 2\n",
        "\n",
        "Treine modelos lineares na base <i>Advertising.csv</i> utilizando apenas um dos atributos preditores.\n",
        "\n",
        "1) Observando visualmente o modelo, qual atributo parece mais razoável? o que foi aprendido com TV, radio ou newspaper?\n",
        "\n",
        "2) Qual dos modelos é melhor? como você chegou a esta conclusão?"
      ]
    },
    {
      "cell_type": "code",
      "execution_count": 52,
      "metadata": {
        "id": "eX4o1mgPEi6x"
      },
      "outputs": [],
      "source": [
        "#Treinando o modelo utilizando a tv em relacao a vendas\n",
        "X_tv = dados_adv.loc[:,['TV']]\n",
        "y_tv = dados_adv.loc[:,['sales']]\n",
        "\n",
        "reg_tv = LinearRegression().fit(X_tv,y_tv)\n",
        "\n",
        "#Treinando o modelo utilizando a radio em relacao a vendas\n",
        "X_radio = dados_adv.loc[:,['radio']]\n",
        "y_radio = dados_adv.loc[:,['sales']]\n",
        "\n",
        "reg_radio = LinearRegression().fit(X_radio,y_radio)\n",
        "\n",
        "#Treinando o modelo utilizando a newspaper em relacao a vendas\n",
        "X_newspaper = dados_adv.loc[:,['newspaper']]\n",
        "y_newspaper = dados_adv.loc[:,['sales']]\n",
        "\n",
        "reg_newspaper = LinearRegression().fit(X_newspaper,y_newspaper)"
      ]
    },
    {
      "cell_type": "code",
      "source": [
        "plt.scatter(X_tv, y_tv,color='g')\n",
        "plt.plot(X_tv, reg_tv.predict(X_tv),color='k')\n",
        "plt.scatter(X_radio, y_radio,color='r')\n",
        "plt.plot(X_radio, reg_radio.predict(X_radio),color='b')\n",
        "plt.scatter(X_newspaper, y_newspaper,color='y')\n",
        "plt.plot(X_newspaper, reg_newspaper.predict(X_newspaper),color='m')\n",
        "plt.xlabel('Atribuicao')\n",
        "plt.ylabel('Vendas')\n",
        "plt.legend(['TV','Radio','Newspaper'])\n",
        "plt.show()"
      ],
      "metadata": {
        "colab": {
          "base_uri": "https://localhost:8080/",
          "height": 449
        },
        "id": "M2tub-hL8Iyq",
        "outputId": "a3a7e72b-cdd5-4d03-cedb-5b1e14e7808f"
      },
      "execution_count": 53,
      "outputs": [
        {
          "output_type": "display_data",
          "data": {
            "text/plain": [
              "<Figure size 640x480 with 1 Axes>"
            ],
            "image/png": "[encoded data removed]"
          },
          "metadata": {}
        }
      ]
    },
    {
      "cell_type": "markdown",
      "source": [
        "Baseado no grafico podemos ver que a tv é o atributo mais razoavel"
      ],
      "metadata": {
        "id": "g6Wv0pfc8R3Y"
      }
    },
    {
      "cell_type": "code",
      "source": [],
      "metadata": {
        "id": "MimSzvbd8ftE"
      },
      "execution_count": null,
      "outputs": []
    },
    {
      "cell_type": "markdown",
      "metadata": {
        "id": "sez5zm8PEi6y"
      },
      "source": [
        "# Exercício 3"
      ]
    },
    {
      "cell_type": "markdown",
      "metadata": {
        "id": "RCeZJII8Ei6y"
      },
      "source": [
        "1. Compare os resultados das duas regressões com a implemtação do KNN-Regressor visto na aula passada.\n",
        "\n",
        "1. Utilizando a API do scikit-learn para criação de partições de treino e teste, refaça a sua regressão nas partições de treino e faça a validação nas partições de teste.\n",
        "\n",
        "    1. Comparar os resultados na partição de treino e teste;\n",
        "    1. Comparar desempenho com a regressão na qual não foi feita a separação entre treino e teste. Você acha que o desempenho deveria ser melhor ou pior nesse caso? É possível dizer que os modelos treinados no dataset completo generalizam?\n"
      ]
    },
    {
      "cell_type": "code",
      "source": [
        "from sklearn.neighbors import KNeighborsRegressor\n",
        "from sklearn.model_selection import train_test_split\n",
        "\n",
        "#Separando Treino para o portland usando a variavel tamanho\n",
        "X_train, X_test, y_train, y_test = train_test_split(X_tamanho, y, test_size=0.2, random_state=42)\n",
        "\n",
        "reg_train = LinearRegression().fit(X_train,y_train)\n",
        "reg_test = LinearRegression().fit(X_test,y_test)\n",
        "knn_train = KNeighborsRegressor(n_neighbors=10).fit(X_train,y_train)\n",
        "knn_test = KNeighborsRegressor(n_neighbors=10).fit(X_test,y_test)\n",
        "y_pred_reg_train = reg_train.predict(X_train)\n",
        "y_pred_reg_test = reg_test.predict(X_test)\n",
        "y_pred_knn = knn_test.predict(X_test)\n",
        "y_pred_knn_train = knn_train.predict(X_train)\n",
        "\n",
        "#Separando Treino para Advertising usando a variavel tv\n",
        "X_train_adv, X_test_adv, y_train_adv, y_test_adv = train_test_split(X_tv, y_tv, test_size=0.2, random_state=42)\n",
        "\n",
        "reg_train_adv = LinearRegression().fit(X_train_adv,y_train_adv)\n",
        "reg_test_adv = LinearRegression().fit(X_test_adv,y_test_adv)\n",
        "knn_train_adv = KNeighborsRegressor(n_neighbors=10).fit(X_train_adv,y_train_adv)\n",
        "knn_test_adv = KNeighborsRegressor(n_neighbors=10).fit(X_test_adv,y_test_adv)\n",
        "y_pred_reg_train_adv = reg_train_adv.predict(X_train_adv)\n",
        "y_pred_reg_test_adv = reg_test_adv.predict(X_test_adv)\n",
        "y_pred_knn_adv = knn_test_adv.predict(X_test_adv)\n",
        "y_pred_knn_train_adv = knn_train_adv.predict(X_train_adv)\n",
        "\n",
        "#Comparacao de resultados entre regressao linear e o knn\n",
        "print(\"RSS Regressão Linear Treino Portland_housePrices:\", calc_rss(y_train, y_pred_reg_train))\n",
        "print(\"R^2 Regressão Linear Treino Portland_housePrices:\", calc_r2(y_train, y_pred_reg_train))\n",
        "print(\"RSS Regressão Linear Teste Portland_housePrices:\", calc_rss(y_test, y_pred_reg_test))\n",
        "print(\"R^2 Regressão Linear Teste Portland_housePrices:\", calc_r2(y_test, y_pred_reg_test))\n",
        "\n",
        "print(\"RSS KNN-Regressor Treino Portland_housePrices:\", calc_rss(y_train, y_pred_knn_train))\n",
        "print(\"R^2 KNN-Regressor Treino Portland_housePrices:\", calc_r2(y_train, y_pred_knn_train))\n",
        "print(\"RSS KNN-Regressor Teste Portland_housePrices:\", calc_rss(y_test, y_pred_knn))\n",
        "print(\"R^2 KNN-Regressor Teste Portland_housePrices:\", calc_r2(y_test, y_pred_knn))\n",
        "\n",
        "# Comparação de resultados para Advertising\n",
        "print(\"RSS Regressão Linear Treino Advertising:\", calc_rss(y_train_adv, y_pred_reg_train_adv))\n",
        "print(\"R^2 Regressão Linear Treino Advertising:\", calc_r2(y_train_adv, y_pred_reg_train_adv))\n",
        "print(\"RSS Regressão Linear Teste Advertising:\", calc_rss(y_test_adv, y_pred_reg_test_adv))\n",
        "print(\"R^2 Regressão Linear Teste Advertising:\", calc_r2(y_test_adv, y_pred_reg_test_adv))\n",
        "\n",
        "\n",
        "print(\"RSS KNN-Regressor Treino Advertising:\", calc_rss(y_train_adv, y_pred_knn_train_adv))\n",
        "print(\"R^2 KNN-Regressor Treino Advertising:\", calc_r2(y_train_adv, y_pred_knn_train_adv))\n",
        "print(\"RSS KNN-Regressor Teste Advertising:\", calc_rss(y_test_adv, y_pred_knn_adv))\n",
        "print(\"R^2 KNN-Regressor Teste Advertising:\", calc_r2(y_test_adv, y_pred_knn_adv))\n"
      ],
      "metadata": {
        "colab": {
          "base_uri": "https://localhost:8080/"
        },
        "id": "7gf2I1lP_emd",
        "outputId": "53d3c241-2e8f-4141-fc12-33de401cb638"
      },
      "execution_count": 54,
      "outputs": [
        {
          "output_type": "stream",
          "name": "stdout",
          "text": [
            "RSS Regressão Linear Treino Portland_housePrices: 115970368456.87866\n",
            "R^2 Regressão Linear Treino Portland_housePrices: 0.6899561356768185\n",
            "RSS Regressão Linear Teste Portland_housePrices: 52382926473.94876\n",
            "R^2 Regressão Linear Teste Portland_housePrices: 0.5813032692292326\n",
            "RSS KNN-Regressor Treino Portland_housePrices: 184142718907.38004\n",
            "R^2 KNN-Regressor Treino Portland_housePrices: -0.22436086045899284\n",
            "RSS KNN-Regressor Teste Portland_housePrices: 177492397420.90002\n",
            "R^2 KNN-Regressor Teste Portland_housePrices: 0.0\n",
            "RSS Regressão Linear Treino Advertising: 1696.576091358283\n",
            "R^2 Regressão Linear Treino Advertising: 0.30842998660581655\n",
            "RSS Regressão Linear Teste Advertising: 396.405898791155\n",
            "R^2 Regressão Linear Teste Advertising: 0.5423293206296177\n",
            "RSS KNN-Regressor Treino Advertising: 1594.4207999999999\n",
            "R^2 KNN-Regressor Treino Advertising: 0.3585247510563154\n",
            "RSS KNN-Regressor Teste Advertising: 404.62019999999984\n",
            "R^2 KNN-Regressor Teste Advertising: 0.4742049455638263\n"
          ]
        },
        {
          "output_type": "stream",
          "name": "stderr",
          "text": [
            "<ipython-input-10-ae5ab3570a15>:3: FutureWarning: Calling float on a single element Series is deprecated and will raise a TypeError in the future. Use float(ser.iloc[0]) instead\n",
            "  return float(((predicted - y) ** 2).sum())\n",
            "<ipython-input-10-ae5ab3570a15>:3: FutureWarning: Calling float on a single element Series is deprecated and will raise a TypeError in the future. Use float(ser.iloc[0]) instead\n",
            "  return float(((predicted - y) ** 2).sum())\n",
            "<ipython-input-10-ae5ab3570a15>:3: FutureWarning: Calling float on a single element Series is deprecated and will raise a TypeError in the future. Use float(ser.iloc[0]) instead\n",
            "  return float(((predicted - y) ** 2).sum())\n",
            "<ipython-input-10-ae5ab3570a15>:3: FutureWarning: Calling float on a single element Series is deprecated and will raise a TypeError in the future. Use float(ser.iloc[0]) instead\n",
            "  return float(((predicted - y) ** 2).sum())\n",
            "<ipython-input-10-ae5ab3570a15>:3: FutureWarning: Calling float on a single element Series is deprecated and will raise a TypeError in the future. Use float(ser.iloc[0]) instead\n",
            "  return float(((predicted - y) ** 2).sum())\n",
            "<ipython-input-10-ae5ab3570a15>:3: FutureWarning: Calling float on a single element Series is deprecated and will raise a TypeError in the future. Use float(ser.iloc[0]) instead\n",
            "  return float(((predicted - y) ** 2).sum())\n",
            "<ipython-input-10-ae5ab3570a15>:3: FutureWarning: Calling float on a single element Series is deprecated and will raise a TypeError in the future. Use float(ser.iloc[0]) instead\n",
            "  return float(((predicted - y) ** 2).sum())\n",
            "<ipython-input-10-ae5ab3570a15>:3: FutureWarning: Calling float on a single element Series is deprecated and will raise a TypeError in the future. Use float(ser.iloc[0]) instead\n",
            "  return float(((predicted - y) ** 2).sum())\n"
          ]
        }
      ]
    },
    {
      "cell_type": "markdown",
      "source": [
        "Para determinar qual dos modelos é melhor, podemos comparar os resultados dos modelos de regressão linear e KNN-Regressor nas partições de treino e teste.\n",
        "\n",
        "Portland_housePrices\n",
        "\n",
        "Observando os resultados, podemos ver que o modelo de regressão linear apresenta um RSS e R^2 melhores tanto no treino quanto no teste. Isso sugere que o modelo de regressão linear é mais preciso e geraliza melhor para novos dados.\n",
        "\n",
        "Advertising\n",
        "\n",
        "Novamente, o modelo de regressão linear apresenta um RSS e R^2 melhores tanto no treino quanto no teste. Isso sugere que o modelo de regressão linear é mais preciso e geraliza melhor para novos dados.\n",
        "\n",
        "Conclusão\n",
        "\n",
        "Baseado nos resultados, podemos concluir que o modelo de regressão linear é melhor para ambos os conjuntos de dados. Isso porque ele apresenta um RSS e R^2 melhores tanto no treino quanto no teste, o que sugere que ele é mais preciso e geraliza melhor para novos dados.\n",
        "\n",
        "Além disso, é importante notar que o modelo de regressão linear é mais interpretable e fácil de entender do que o modelo KNN-Regressor, o que pode ser uma vantagem em muitos casos.\n"
      ],
      "metadata": {
        "id": "RSnrGv72HfAD"
      }
    }
  ],
  "metadata": {
    "kernelspec": {
      "display_name": "Python 3",
      "language": "python",
      "name": "python3"
    },
    "language_info": {
      "codemirror_mode": {
        "name": "ipython",
        "version": 3
      },
      "file_extension": ".py",
      "mimetype": "text/x-python",
      "name": "python",
      "nbconvert_exporter": "python",
      "pygments_lexer": "ipython3",
      "version": "3.9.4"
    },
    "colab": {
      "provenance": []
    }
  },
  "nbformat": 4,
  "nbformat_minor": 0
}